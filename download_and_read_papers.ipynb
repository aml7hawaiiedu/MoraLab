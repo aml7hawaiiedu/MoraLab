{
  "cells": [
    {
      "cell_type": "markdown",
      "metadata": {
        "id": "view-in-github",
        "colab_type": "text"
      },
      "source": [
        "<a href=\"https://colab.research.google.com/github/aml7hawaiiedu/MoraLab/blob/main/download_and_read_papers.ipynb\" target=\"_parent\"><img src=\"https://colab.research.google.com/assets/colab-badge.svg\" alt=\"Open In Colab\"/></a>"
      ]
    },
    {
      "cell_type": "markdown",
      "id": "9e1add53-a2c2-450d-a634-eeebbfdc0b1e",
      "metadata": {
        "id": "9e1add53-a2c2-450d-a634-eeebbfdc0b1e"
      },
      "source": [
        "## function to download and analyse papers from google scholar\n",
        "- This function will do a google scholar search based on a query (food + hazard)\n",
        "- It will attempt to download the first 20 results (mostly through scihub)\n",
        "- Then ChatPDF will check through each pdf and answer your question and find quotes within each pdf\n",
        "\n",
        "You need\n",
        "1. To install PyPaperBot (you can do this in anaconda terminal by typing *pip install PyPaperBot*\n",
        "2. A chatPDF API Key. you can get this by making a chatPDF user and clicking *My Account* on the ChatPDF API website https://www.chatpdf.com/docs/api/backend"
      ]
    },
    {
      "cell_type": "code",
      "execution_count": null,
      "id": "ea220c0c-2f3b-4951-800c-3b35b68b6a82",
      "metadata": {
        "id": "ea220c0c-2f3b-4951-800c-3b35b68b6a82"
      },
      "outputs": [],
      "source": [
        "import requests\n",
        "import glob\n",
        "import PyPaperBot\n",
        "from PyPaperBot import __main__ as p\n",
        "import os"
      ]
    },
    {
      "cell_type": "code",
      "execution_count": null,
      "id": "9cd3a175-16f3-481d-8fc4-bdfb172682dd",
      "metadata": {
        "id": "9cd3a175-16f3-481d-8fc4-bdfb172682dd"
      },
      "outputs": [],
      "source": [
        "# FUNCTION to download and review the papers\n",
        "\n",
        "def download_and_read(food, hazard, API_Key, scholar_pages=[1,2], scholar_results=20, question='default', skip_if_folder_exists = True):\n",
        "\n",
        "    ## ----------------------------------- ###\n",
        "    # specify download folder\n",
        "    folder_name = f'{food}_{hazard}'\n",
        "    dwn_dir = os.path.join(os.getcwd(), folder_name)\n",
        "    if os.path.exists(dwn_dir) and skip_if_folder_exists:\n",
        "        pdfs = glob.glob(os.path.join(dwn_dir, '*.pdf'))\n",
        "        print('found %d papers in the folder \"%s\"' %(len(pdfs), folder_name))\n",
        "    else: # not os.path.exists(dwn_dir)\n",
        "        os.mkdir(dwn_dir)\n",
        "        # make query:\n",
        "        query = f'{food}+{hazard}'\n",
        "        #download papers from google scholar\n",
        "        p.start(query=query, scholar_pages=scholar_pages, scholar_results=scholar_results, dwn_dir=dwn_dir, proxy=[])\n",
        "\n",
        "        pdfs = glob.glob(os.path.join(dwn_dir, '*.pdf'))\n",
        "        print('downloaded %d of %d papers' %(len(pdfs), scholar_results))\n",
        "\n",
        "    ## ----------------------------------- ###\n",
        "    # load papers into chatpdf\n",
        "    for file in pdfs:\n",
        "        print(f'loading file \"{os.path.basename(file)}\" ')\n",
        "        files = [('file', ('file', open(file, 'rb'), 'application/octet-stream'))]\n",
        "        headers = {'x-api-key': API_Key}\n",
        "        response = requests.post('https://api.chatpdf.com/v1/sources/add-file', headers=headers, files=files)\n",
        "        if response.status_code == 200:\n",
        "            sID = response.json()['sourceId']\n",
        "            #print('Source ID:', response.json()['sourceId'])\n",
        "        else:\n",
        "            print('Status:', response.status_code)\n",
        "            print('Error:', response.text)\n",
        "        headers = {\n",
        "            'x-api-key': API_Key,\n",
        "            \"Content-Type\": \"application/json\",\n",
        "        }\n",
        "\n",
        "        ##### ----------------------------------- ###\n",
        "        # 'read' papers\n",
        "        print('analyzing file...')\n",
        "        if question == 'default':\n",
        "            question = f'How does {hazard} impact {food}? can you provide a quote from the text about this?'\n",
        "\n",
        "        data = {\n",
        "            'sourceId': sID,\n",
        "            'messages': [\n",
        "                {\n",
        "                    'role': \"user\",\n",
        "                    'content': question,\n",
        "                }\n",
        "            ]\n",
        "        }\n",
        "        response = requests.post(\n",
        "            'https://api.chatpdf.com/v1/chats/message', headers=headers, json=data)\n",
        "\n",
        "        if response.status_code == 200:\n",
        "            print('result:', response.json()['content'])\n",
        "        else:\n",
        "            print('Status:', response.status_code)\n",
        "            print('Error:', response.text)\n",
        "        print(\"\\n\")\n"
      ]
    },
    {
      "cell_type": "markdown",
      "id": "9bb088d5-5275-4d39-99c8-e833d1d1bc25",
      "metadata": {
        "id": "9bb088d5-5275-4d39-99c8-e833d1d1bc25"
      },
      "source": [
        "### Download and \"read\" the papers\n",
        "- Change food and hazard to any combination and input your API_Key\n",
        "- If you want to change any settings of numbers of pages and number of files to download\n",
        "- You can also specify a question to ask, otherwise it will ask \"How does {hazard} impact {food}? can you provide a quote from the text about this?\""
      ]
    },
    {
      "cell_type": "code",
      "execution_count": null,
      "id": "0845977b-d355-4f00-83a7-5483606c8418",
      "metadata": {
        "id": "0845977b-d355-4f00-83a7-5483606c8418",
        "outputId": "e8853daf-60f5-4d90-98e3-975d39664bce"
      },
      "outputs": [
        {
          "name": "stdout",
          "output_type": "stream",
          "text": [
            "found 20 papers in the folder \"wheat_drought\"\n",
            "loading file \"An EPIC model-based wheat drought risk assessment using new climate scenarios in China.pdf\" \n",
            "analyzing file...\n",
            "result: According to page 3, \"Global agriculture is facing unprecedented challenges and risks. According to the latest Intergovernmental Panel on Climate Change (IPCC) assessment report, climate warming is beyond doubt (IPCC 2013). This will lead to an increased degrees of drought (Trenberth et al. 2013), thereby negatively impacting crop yields.\"\n",
            "\n",
            "\n",
            "loading file \"Genetic and genomic tools to improve drought tolerance in wheat.pdf\" \n",
            "analyzing file...\n",
            "result: According to page 6, \"Wheat production relies on rainfall during the growing season when precipitation decreases with the rise of temperature during spring. The availability of water is cyclic with a succession of precipitation and drought periods from anthesis to the grain-filling stages. The drought is combined with a cyclic heat stress between rainfall events.\"\n",
            "\n",
            "\n",
            "loading file \"From genetics to functional genomics_ improvement in drought signaling and tolerance in wheat.pdf\" \n",
            "analyzing file...\n",
            "result: According to page 2, \"Drought stress in wheat involve crosstalk among various biomolecules which makes breeding for drought tolerance an uphill task.\"\n",
            "\n",
            "\n",
            "loading file \"Effects of two species of VA mycorrhizal fungi on drought tolerance of winter wheat.pdf\" \n",
            "analyzing file...\n",
            "Status: 500\n",
            "Error: {\"error\":\"invalid json response body at https://prompt-pr4yueoqha-ue.a.run.app/ reason: Unexpected token 'I', \\\"Internal S\\\"... is not valid JSON\"}\n",
            "\n",
            "\n",
            "loading file \"Drought tolerance in wheat.pdf\" \n",
            "analyzing file...\n",
            "result: According to page 1, \"Drought is one of the most important phenomena which limit crops’ production and yield.\"\n",
            "\n",
            "\n",
            "loading file \"Drought-adaptive attributes in the Seri_Babax hexaploid wheat population.pdf\" \n",
            "analyzing file...\n",
            "result: According to the introduction on page 1, \"Drought stress is a permanent constraint to wheat (Triticum aestivum L.) production on at least 40 million ha in the developing world and in ∼25 million ha in industrialised nations (Morris et al. 1991; Byerlee and Moya 1993). Modelling exercises suggest that yield in marginal wheat growing environments is typically reduced by between 50 and 90% of their theoretical irrigated yield potential owing to factors associated with water-limited environments (Morris et al. 1991).\"\n",
            "\n",
            "\n",
            "loading file \"Breeding wheat for drought tolerance_ Progress and technologies.pdf\" \n",
            "analyzing file...\n",
            "result: According to page 7, \"Drought stress is one of the major abiotic stresses that limit wheat productivity worldwide.\" and \"Drought does not occur independent from other abiotic stresses and is normally associated with heat stress.\"\n",
            "\n",
            "\n",
            "loading file \"Drought resistance in spring wheat cultivars. I. Grain yield responses.pdf\" \n",
            "analyzing file...\n",
            "result: According to the given pages, drought can have a significant impact on wheat yield. Fischer (1973) notes that \"the effect of water at various stages of development on yield processes in wheat\" can be significant. Blum (1973) also conducted a study on the yield responses of sorghum hybrids to drought and found that \"drought stress reduced the yield of all hybrids.\"\n",
            "\n",
            "\n",
            "loading file \"Water relations in winter wheat as drought resistance indicators.pdf\" \n",
            "analyzing file...\n",
            "result: According to the text, drought can cause reductions in biomass, grain yield, number of heads per plant, kernel weight, and harvest index in winter wheat. This is stated on page 4: \"Compared to well-watered parents, drought caused reductions in biomass, grain yield, number of heads per plant, kernel weight, and harvest index.\"\n",
            "\n",
            "\n",
            "loading file \"Control of drought stress in wheat using plant-growth-promoting bacteria.pdf\" \n",
            "analyzing file...\n",
            "result: I apologize, but there is no information about drought's impact on wheat in the given pages.\n",
            "\n",
            "\n",
            "loading file \"Drought stress effects on water relations of wheat.pdf\" \n",
            "analyzing file...\n",
            "result: According to the text on page 1, \"Drought stress is becoming an increasingly severe problem for agricultural production in many parts of south-eastern Europe, including the Balkan Peninsula.\" It goes on to explain that drought can significantly reduce wheat yields, as seen in Serbia in 2003 when yields were reduced from a long-term average of 3.6 t/ha to slightly more than 2 t/ha. Climate change models also predict that droughts are likely to have a growing influence on European wheat production in the future.\n",
            "\n",
            "\n",
            "loading file \"Monitoring winter wheat drought threat in Northern China using multiple climate-based drought indices and soil moisture during 2000_2013.pdf\" \n",
            "analyzing file...\n",
            "result: According to page 2, \"Agricultural drought is usually associated with crop reduction or failure, as induced by the shortage of soil moisture for a period of time. However, soil moisture observations are often irregular over space and time, which makes it difficult to define appropriate thresholds to characterize crop failure, especially in regions with different cultivation types or climates. Although agricultural droughts are difficult to monitor, they usually have a climate origin. In particular, the decreased rainfall and the increased atmospheric evaporative demand can result in a depletion of water content in the soil and thus an increase in water stress for plants.\"\n",
            "\n",
            "\n",
            "loading file \"Breeding for enhanced drought resistance in barley and wheat-drought-associated traits_ genetic resources and their potential utilization in breeding programmes.pdf\" \n",
            "analyzing file...\n",
            "result: Drought severely limits the production of wheat in many areas, affecting an estimated 65 million hectares of wheat production area worldwide. \"Common wheat (Triticum aestivum L.) and barley (Hordeum vulgare L.) represent the most important cereal crops worldwide whose production is severely limited by drought in many production areas.\" (Page 1)\n",
            "\n",
            "\n",
            "loading file \"Evaluation of Techniques for Screening for Drought Resistance in Wheat1.pdf\" \n",
            "analyzing file...\n",
            "result: Regarding the impact of drought on wheat, the text states that \"The irrigation tests indicated that the cultivars reacted differently to drought stress. A significant cultivar× drought stress interaction for grain yield occurred two out of three years and in the 3-yr combined analysis.\" (Page 3)\n",
            "\n",
            "\n",
            "loading file \"Drought tolerance in modern and wild wheat.pdf\" \n",
            "analyzing file...\n",
            "result: According to the text, \"Drought is the single largest abiotic stress factor leading to reduced crop yields\" (Page 1).\n",
            "\n",
            "\n",
            "loading file \"Wheat drought tolerance in the field is predicted by amino acid responses to glasshouse-imposed drought.pdf\" \n",
            "analyzing file...\n",
            "result: 1. How does drought impact wheat?\n",
            "Answer: According to Page 1, \"Water availability is critical for wheat production, and drought is the major cause of yield losses.\"\n",
            "\n",
            "2. Can you provide a quote from the text about the assessment of variety performance and determination of YDT under terminal drought conditions?\n",
            "Answer: Yes, from Page 3: \"The assessment of variety performance and determination of YDT under terminal drought conditions was undertaken across three seasons at three national managed environment facilities (MEFs) located across Australia.\"\n",
            "\n",
            "3. What is the purpose of this research paper?\n",
            "Answer: According to the abstract on Page 1, \"Water limits crop productivity, so selecting for a minimal yield gap in drier environments is critical to mitigate against climate change and land-use pressure.\" The purpose of the research paper is to explore how amino acid responses to drought can predict wheat drought tolerance in the field.\n",
            "\n",
            "\n",
            "loading file \"Evaluation of Screening Techniques for Breeding Drought_Resistanct Winter Wheat.pdf\" \n",
            "analyzing file...\n",
            "result: Regarding the impact of drought on wheat, the text states that \"The irrigation tests indicated that the cultivars reacted differently to drought stress. A significant cultivar× drought stress interaction for grain yield occurred two out of three years and in the 3-yr combined analysis.\" (Page 3)\n",
            "\n",
            "\n",
            "loading file \"Comparison of responses to drought stress of 100 wheat accessions and landraces to identify opportunities for improving wheat drought resistance.pdf\" \n",
            "analyzing file...\n",
            "result: According to the text on page 1, \"Drought stress is becoming an increasingly severe problem for agricultural production in many parts of south-eastern Europe, including the Balkan Peninsula.\" It goes on to explain that drought can significantly reduce wheat yields, as seen in Serbia in 2003 when yields were reduced from a long-term average of 3.6 t/ha to slightly more than 2 t/ha. Climate change models also predict that droughts are likely to have a growing influence on European wheat production in the future.\n",
            "\n",
            "\n",
            "loading file \"Heat and drought resistances criteria in spring bread wheat_ Drought resistance parameters.pdf\" \n",
            "analyzing file...\n",
            "result: According to the text on page 1, \"Drought stress is becoming an increasingly severe problem for agricultural production in many parts of south-eastern Europe, including the Balkan Peninsula.\" It goes on to explain that drought can significantly reduce wheat yields, as seen in Serbia in 2003 when yields were reduced from a long-term average of 3.6 t/ha to slightly more than 2 t/ha. Climate change models also predict that droughts are likely to have a growing influence on European wheat production in the future.\n",
            "\n",
            "\n",
            "loading file \"Phenotype and drought tolerance in wheat.pdf\" \n",
            "analyzing file...\n",
            "result: To answer your question, the text states that \"an extensive root system in wheat is important for drought resistance and higher yields under moisture stress conditions.\"\n",
            "\n",
            "\n"
          ]
        }
      ],
      "source": [
        "food = 'wheat'\n",
        "hazard = 'drought'\n",
        "API_Key = 'sec_XXXXXXXXXXXXXXXXXXX' #make a user and get api key from https://www.chatpdf.com/docs/api/backend\n",
        "scholar_pages = [1,2]\n",
        "scholar_results = 20\n",
        "question = 'default' ## Specify a question in quotes or use the default: \"How does {hazard} impact {food}? can you provide a quote from the text about this?\"\n",
        "skip_if_folder_exists = True ## dummy variable, if you have the data downloaded already and dont want to re-download it. defualt=True\n",
        "\n",
        "## Run function\n",
        "download_and_read(food, hazard, API_Key, scholar_pages=[1,2], scholar_results=20, question='default', skip_if_folder_exists = True)\n"
      ]
    },
    {
      "cell_type": "code",
      "execution_count": null,
      "id": "02a9cfe0-2872-4906-80e5-1a54534bd372",
      "metadata": {
        "id": "02a9cfe0-2872-4906-80e5-1a54534bd372"
      },
      "outputs": [],
      "source": []
    }
  ],
  "metadata": {
    "kernelspec": {
      "display_name": "Python 3 (ipykernel)",
      "language": "python",
      "name": "python3"
    },
    "language_info": {
      "codemirror_mode": {
        "name": "ipython",
        "version": 3
      },
      "file_extension": ".py",
      "mimetype": "text/x-python",
      "name": "python",
      "nbconvert_exporter": "python",
      "pygments_lexer": "ipython3",
      "version": "3.9.18"
    },
    "colab": {
      "provenance": [],
      "include_colab_link": true
    }
  },
  "nbformat": 4,
  "nbformat_minor": 5
}